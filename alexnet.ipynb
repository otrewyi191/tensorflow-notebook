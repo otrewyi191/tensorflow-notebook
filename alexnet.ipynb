{
 "cells": [
  {
   "cell_type": "code",
   "execution_count": 1,
   "metadata": {},
   "outputs": [],
   "source": [
    "from datetime import datetime\n",
    "import math\n",
    "import time\n",
    "import tensorflow as tf"
   ]
  },
  {
   "cell_type": "code",
   "execution_count": 2,
   "metadata": {},
   "outputs": [],
   "source": [
    "batch_size=32\n",
    "num_batches=100"
   ]
  },
  {
   "cell_type": "code",
   "execution_count": 3,
   "metadata": {},
   "outputs": [],
   "source": [
    "def print_activations(t):\n",
    "    print(t.op.name,' ',t.get_shape().as_list())"
   ]
  },
  {
   "cell_type": "code",
   "execution_count": 11,
   "metadata": {},
   "outputs": [],
   "source": [
    "def inference(images):\n",
    "    parameters=[]\n",
    "    with tf.name_scope('conv1') as scope:\n",
    "        kernel = tf.Variable(tf.truncated_normal([11,11,3,64],\n",
    "                                                dtype=tf.float32,stddev=1e-1),name='weights')\n",
    "        conv = tf.nn.conv2d(images,kernel,[1,4,4,1],padding='SAME')\n",
    "        biases = tf.Variable(tf.constant(0.0,shape=[64],dtype=tf.float32),trainable=True,name='biases')\n",
    "        bias = tf.nn.bias_add(conv,biases)\n",
    "        conv1 = tf.nn.relu(bias,name=scope)\n",
    "        print_activations(conv1)\n",
    "        parameters+=[kernel,biases]\n",
    "        \n",
    "    lrn1=tf.nn.lrn(conv1,4,bias=1.0,alpha=0.001/9,beta=0.75,name='lrn1')\n",
    "    pool1=tf.nn.max_pool(lrn1,ksize=[1,3,3,1],strides=[1,2,2,1],padding='VALID',name='pool1')\n",
    "    print_activations(pool1)\n",
    "        \n",
    "    with tf.name_scope('conv2') as scope:\n",
    "        kernel = tf.Variable(tf.truncated_normal([5,5,64,192],\n",
    "                                                dtype=tf.float32,stddev=1e-1),name='weights')\n",
    "        conv = tf.nn.conv2d(pool1,kernel,[1,1,1,1],padding='SAME')\n",
    "        biases = tf.Variable(tf.constant(0.0,shape=[192],dtype=tf.float32),trainable=True,name='biases')\n",
    "        bias = tf.nn.bias_add(conv,biases)\n",
    "        conv2 = tf.nn.relu(bias,name=scope)\n",
    "        print_activations(conv2)\n",
    "        parameters+=[kernel,biases]\n",
    "        \n",
    "    lrn2=tf.nn.lrn(conv2,4,bias=1.0,alpha=0.001/9,beta=0.75,name='lrn2')\n",
    "    pool2=tf.nn.max_pool(lrn2,ksize=[1,3,3,1],strides=[1,2,2,1],padding='VALID',name='pool2')\n",
    "    print_activations(pool2)\n",
    "    \n",
    "    with tf.name_scope('conv3') as scope:\n",
    "        kernel = tf.Variable(tf.truncated_normal([3,3,192,384],\n",
    "                                                dtype=tf.float32,stddev=1e-1),name='weights')\n",
    "        conv = tf.nn.conv2d(pool2,kernel,[1,1,1,1],padding='SAME')\n",
    "        biases = tf.Variable(tf.constant(0.0,shape=[384],dtype=tf.float32),trainable=True,name='biases')\n",
    "        bias = tf.nn.bias_add(conv,biases)\n",
    "        conv3 = tf.nn.relu(bias,name=scope)\n",
    "        print_activations(conv3)\n",
    "        parameters+=[kernel,biases]\n",
    "\n",
    "    with tf.name_scope('conv4') as scope:\n",
    "        kernel = tf.Variable(tf.truncated_normal([3,3,384,256],\n",
    "                                                dtype=tf.float32,stddev=1e-1),name='weights')\n",
    "        conv = tf.nn.conv2d(conv3,kernel,[1,1,1,1],padding='SAME')\n",
    "        biases = tf.Variable(tf.constant(0.0,shape=[256],dtype=tf.float32),trainable=True,name='biases')\n",
    "        bias = tf.nn.bias_add(conv,biases)\n",
    "        conv4 = tf.nn.relu(bias,name=scope)\n",
    "        print_activations(conv4)\n",
    "        parameters+=[kernel,biases]\n",
    "        \n",
    "    with tf.name_scope('conv5') as scope:\n",
    "        kernel = tf.Variable(tf.truncated_normal([3,3,256,256],\n",
    "                                                dtype=tf.float32,stddev=1e-1),name='weights')\n",
    "        conv = tf.nn.conv2d(conv4,kernel,[1,1,1,1],padding='SAME')\n",
    "        biases = tf.Variable(tf.constant(0.0,shape=[256],dtype=tf.float32),trainable=True,name='biases')\n",
    "        bias = tf.nn.bias_add(conv,biases)\n",
    "        conv5 = tf.nn.relu(bias,name=scope)\n",
    "        print_activations(conv5)\n",
    "        parameters+=[kernel,biases]\n",
    "        \n",
    "    pool5=tf.nn.max_pool(conv5,ksize=[1,3,3,1],strides=[1,2,2,1],padding='VALID',name='pool5')\n",
    "    print_activations(pool5)\n",
    "    \n",
    "    return pool5,parameters"
   ]
  },
  {
   "cell_type": "code",
   "execution_count": 24,
   "metadata": {},
   "outputs": [],
   "source": [
    "def time_tensorflow_run(session,target,info_string):\n",
    "    num_steps_burn_in=5\n",
    "    total_duration=0.0\n",
    "    total_duration_squared=0.0\n",
    "    for i in range(num_batches + num_steps_burn_in):\n",
    "        start_time = time.time()\n",
    "        _ = session.run(target)\n",
    "        duration = time.time()-start_time\n",
    "        if i >= num_steps_burn_in:\n",
    "            if not i%10:\n",
    "                print('%s: step %d, duration = %.3f'%\n",
    "                      (datetime.now(), i - num_steps_burn_in, duration))\n",
    "            total_duration += duration\n",
    "            total_duration_squared += duration * duration\n",
    "    mn = total_duration / num_batches\n",
    "    vr = total_duration_squared / num_batches - mn*mn\n",
    "    sd = math.sqrt(vr)\n",
    "    print('%s: %s across %d steps, %.3f +/- %.3f sec /batch'%\n",
    "         (datetime.now(), info_string, num_batches, mn, sd))"
   ]
  },
  {
   "cell_type": "code",
   "execution_count": 25,
   "metadata": {},
   "outputs": [],
   "source": [
    "def run_benchmark():\n",
    "    with tf.Graph().as_default():\n",
    "        image_size = 224\n",
    "        images = tf.Variable(tf.random_normal([batch_size,\n",
    "                                              image_size,\n",
    "                                              image_size,3],\n",
    "                                              dtype=tf.float32,\n",
    "                                              stddev=1e-1))\n",
    "        pool5,parameters = inference(images)\n",
    "        \n",
    "        init = tf.global_variables_initializer()\n",
    "        sess = tf.Session()\n",
    "        sess.run(init)\n",
    "        \n",
    "        # 跑pool5，即推理过程，模拟推理过程\n",
    "        time_tensorflow_run(sess,pool5,\"Forward\")\n",
    "        \n",
    "        objective = tf.nn.l2_loss(pool5)\n",
    "        grad = tf.gradients(objective,parameters)\n",
    "        # 跑grad，即算梯度、更新参数，模拟训练过程\n",
    "        time_tensorflow_run(sess,grad,\"Forward-backward\")"
   ]
  },
  {
   "cell_type": "code",
   "execution_count": 26,
   "metadata": {},
   "outputs": [
    {
     "name": "stdout",
     "output_type": "stream",
     "text": [
      "(u'conv1', ' ', [32, 56, 56, 64])\n",
      "(u'pool1', ' ', [32, 27, 27, 64])\n",
      "(u'conv2', ' ', [32, 27, 27, 192])\n",
      "(u'pool2', ' ', [32, 13, 13, 192])\n",
      "(u'conv3', ' ', [32, 13, 13, 384])\n",
      "(u'conv4', ' ', [32, 13, 13, 256])\n",
      "(u'conv5', ' ', [32, 13, 13, 256])\n",
      "(u'pool5', ' ', [32, 6, 6, 256])\n",
      "2017-12-10 03:39:19.236795: step 5, duration = 1.100\n",
      "2017-12-10 03:39:30.161692: step 15, duration = 1.093\n",
      "2017-12-10 03:39:41.083842: step 25, duration = 1.094\n",
      "2017-12-10 03:39:52.021238: step 35, duration = 1.100\n",
      "2017-12-10 03:40:02.971480: step 45, duration = 1.091\n",
      "2017-12-10 03:40:13.898358: step 55, duration = 1.096\n",
      "2017-12-10 03:40:24.819987: step 65, duration = 1.099\n",
      "2017-12-10 03:40:36.175389: step 75, duration = 1.089\n",
      "2017-12-10 03:40:47.317261: step 85, duration = 1.094\n",
      "2017-12-10 03:40:58.212775: step 95, duration = 1.087\n",
      "2017-12-10 03:41:02.577654: Forward across 100 steps, 1.099 +/- 0.023 sec /batch\n",
      "2017-12-10 03:41:41.409920: step 5, duration = 3.516\n",
      "2017-12-10 03:42:16.455406: step 15, duration = 3.510\n",
      "2017-12-10 03:42:53.893197: step 25, duration = 3.516\n",
      "2017-12-10 03:43:29.020023: step 35, duration = 3.515\n",
      "2017-12-10 03:44:04.180733: step 45, duration = 3.521\n",
      "2017-12-10 03:44:39.399438: step 55, duration = 3.514\n",
      "2017-12-10 03:45:14.681007: step 65, duration = 3.524\n",
      "2017-12-10 03:45:49.840944: step 75, duration = 3.509\n",
      "2017-12-10 03:46:25.095026: step 85, duration = 3.569\n",
      "2017-12-10 03:47:00.278037: step 95, duration = 3.525\n",
      "2017-12-10 03:47:14.365864: Forward-backward across 100 steps, 3.540 +/- 0.117 sec /batch\n"
     ]
    }
   ],
   "source": [
    "run_benchmark()"
   ]
  },
  {
   "cell_type": "code",
   "execution_count": null,
   "metadata": {},
   "outputs": [],
   "source": []
  }
 ],
 "metadata": {
  "kernelspec": {
   "display_name": "Python 3",
   "language": "python",
   "name": "python3"
  },
  "language_info": {
   "codemirror_mode": {
    "name": "ipython",
    "version": 2
   },
   "file_extension": ".py",
   "mimetype": "text/x-python",
   "name": "python",
   "nbconvert_exporter": "python",
   "pygments_lexer": "ipython2",
   "version": "2.7.12"
  }
 },
 "nbformat": 4,
 "nbformat_minor": 2
}
